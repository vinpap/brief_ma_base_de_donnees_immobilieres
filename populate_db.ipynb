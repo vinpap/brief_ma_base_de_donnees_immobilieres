{
 "cells": [
  {
   "cell_type": "code",
   "execution_count": 1,
   "id": "56c8bf46",
   "metadata": {},
   "outputs": [],
   "source": [
    "import pandas as pd"
   ]
  },
  {
   "cell_type": "code",
   "execution_count": 2,
   "id": "f2a44a0a",
   "metadata": {},
   "outputs": [
    {
     "name": "stderr",
     "output_type": "stream",
     "text": [
      "/home/vincent/.local/lib/python3.10/site-packages/openpyxl/worksheet/_reader.py:312: UserWarning: Unknown extension is not supported and will be removed\n",
      "  warn(msg)\n"
     ]
    }
   ],
   "source": [
    "# On charge les données issues de nos trois tables\n",
    "all_values = pd.read_excel(\"data/Valeurs_foncières.xlsx\")\n",
    "all_cities = pd.read_excel(\"data/donnees_communes.xlsx\")\n",
    "all_cities2 = pd.read_excel(\"data/fr-esr-referentiel-geographique.xlsx\")"
   ]
  },
  {
   "cell_type": "code",
   "execution_count": 3,
   "id": "c1d8f848-a7d8-4245-9b70-c6fa85ae4ca9",
   "metadata": {},
   "outputs": [],
   "source": [
    "values = all_values[[\"Date mutation\", \"Valeur fonciere\", \"No voie\", \"Type de voie\", \n",
    "                     \"Voie\", \"Code ID commune\", \"Code postal\", \"Commune\", \"Code departement\", \n",
    "                     \"Type local\", \"Surface reelle bati\", \"Nombre pieces principales\"]]"
   ]
  },
  {
   "cell_type": "code",
   "execution_count": 4,
   "id": "db6cf4ad",
   "metadata": {},
   "outputs": [],
   "source": [
    "cities = all_cities[[\"CODREG\", \"REG\", \"PTOT\", \"COM\"]]"
   ]
  },
  {
   "cell_type": "code",
   "execution_count": 5,
   "id": "ecfc75a4-2505-4294-8560-0df769a00a5c",
   "metadata": {},
   "outputs": [],
   "source": [
    "cities2 = all_cities2[[\"regrgp_nom\", \"reg_nom\", \"dep_nom\", \"dep_code\", \"reg_code\", \"com_nom\", \"com_nom_maj\"]]"
   ]
  },
  {
   "cell_type": "code",
   "execution_count": 6,
   "id": "c4ab3270-7943-4f65-b23d-ac00c1128e26",
   "metadata": {},
   "outputs": [
    {
     "name": "stdout",
     "output_type": "stream",
     "text": [
      "<class 'pandas.core.frame.DataFrame'>\n",
      "RangeIndex: 38916 entries, 0 to 38915\n",
      "Data columns (total 3 columns):\n",
      " #   Column      Non-Null Count  Dtype \n",
      "---  ------      --------------  ----- \n",
      " 0   regrgp_nom  38916 non-null  object\n",
      " 1   reg_nom     38916 non-null  object\n",
      " 2   reg_code    38916 non-null  int64 \n",
      "dtypes: int64(1), object(2)\n",
      "memory usage: 912.2+ KB\n",
      "None\n"
     ]
    }
   ],
   "source": [
    "# Création du dataframe pour la table Region\n",
    "region_table = cities2[[\"regrgp_nom\", \"reg_nom\", \"reg_code\"]]\n",
    "print(region_table.info())"
   ]
  },
  {
   "cell_type": "code",
   "execution_count": 7,
   "id": "7267f4dd-2238-458d-94d5-ad996baa91bc",
   "metadata": {},
   "outputs": [],
   "source": [
    "region_table = region_table.drop_duplicates(subset=[\"reg_code\"])\n",
    "region_table.rename(columns={\"reg_nom\": \"REG\", \"reg_code\" : \"CODREG\"}, inplace=True)"
   ]
  },
  {
   "cell_type": "code",
   "execution_count": 8,
   "id": "c9b2d2e5-9efa-41b3-866b-363daf0bb5fc",
   "metadata": {},
   "outputs": [],
   "source": [
    "# Création du dataframe pour la table Departement\n",
    "dep_table = all_cities2[[\"dep_nom\", \"dep_code\", \"reg_code\"]]\n",
    "dep_table = dep_table.drop_duplicates(subset=\"dep_code\")\n",
    "dep_table.rename(columns={\"dep_code\" : \"Code département\", \"reg_code\": \"CODREG\"}, inplace=True)"
   ]
  },
  {
   "cell_type": "code",
   "execution_count": 32,
   "id": "5e061136-fbfe-41be-9276-902c31b32ff1",
   "metadata": {},
   "outputs": [],
   "source": [
    "# Création de la dataframe pour la table Commune, en plusieurs merges intermédiaires\n",
    "intermediate = cities2.merge(how=\"left\", right=cities, left_on=[\"com_nom\", \"reg_code\"], right_on=[\"COM\", \"CODREG\"])\n",
    "\n",
    "intermediate2 = intermediate.merge(how=\"left\", right=values, right_on=[\"Commune\", \"Code departement\"], left_on=[\"com_nom_maj\", \"dep_code\"])\n",
    "\n",
    "commune_table = intermediate2.drop_duplicates(subset=[\"com_nom_maj\", \"dep_code\"])\n",
    "commune_table = commune_table[[\"Code ID commune\", \"Code postal\", \"com_nom_maj\", \"dep_code\", \"PTOT\"]]\n",
    "commune_table.rename(columns={\"Code ID commune\": \"code commune\", \"Code postal\": \"code_postal\", \n",
    "                              \"com_nom_maj\": \"nom_commune\", \"dep_code\": \"code_departement\"}, inplace=True)"
   ]
  },
  {
   "cell_type": "code",
   "execution_count": null,
   "id": "81c9b3c9-3b6d-4fe1-b267-1ceb5e58c8bd",
   "metadata": {},
   "outputs": [],
   "source": [
    "# Création de la dataframe pour la table Bien\n",
    "bien = values[[\n"
   ]
  }
 ],
 "metadata": {
  "kernelspec": {
   "display_name": "Python 3 (ipykernel)",
   "language": "python",
   "name": "python3"
  },
  "language_info": {
   "codemirror_mode": {
    "name": "ipython",
    "version": 3
   },
   "file_extension": ".py",
   "mimetype": "text/x-python",
   "name": "python",
   "nbconvert_exporter": "python",
   "pygments_lexer": "ipython3",
   "version": "3.10.6"
  }
 },
 "nbformat": 4,
 "nbformat_minor": 5
}
